{
  "cells": [
    {
      "cell_type": "markdown",
      "metadata": {
        "nteract": {
          "transient": {
            "deleting": false
          }
        }
      },
      "source": [
        "# HW5: Prob 1: Create a 2D embedding of the CIFAR-10 comparing different manifold learning algorithms\n",
        "\n",
        "The [CIFAR-10](https://www.cs.toronto.edu/~kriz/cifar.html) is not that unlike the MNIST data set in that it is is 6K instances of small images. Unlike MNIST they are color images which are 32x32x3 (32 pixels wide, 32 pixels high, 3 color channels). The 3 color channels are red, green and blue. Each pixel is represented by a number between 0 and 255. The data set is divided into 10 classes. The classes are airplane, automobile, bird, cat, deer, dog, frog, horse, ship, truck. The data set is available in the keras.datasets module. You can load it with the following code:\n",
        "\n",
        "```python\n",
        "from torchvision.datasets import CIFAR10\n",
        "dataset = CIFAR10(root='data/', download=True, transform=ToTensor())\n",
        "test_dataset = CIFAR10(root='data/', train=False, transform=ToTensor())\n",
        "```\n",
        "\n",
        "Your goal is to compare different manifold learning algorithms on this data set. You should use the following algorithms:\n",
        "\n",
        "* Principle Component Analysis\n",
        "* Isomap Embedding\n",
        "* Locally Linear Embedding\n",
        "* Multidimensional scaling.\n",
        "* SpectralEmbedding\n",
        "* T-distributed Stochastic Neighbor Embedding\n",
        "\n",
        "All of these algorithms are available in the sklearn library. In addition you should use also try the UMAP algorithm which is available for python as a library [umap](https://umap-learn.readthedocs.io/en/latest/basic_usage.html). In each of these cases you should project the data into 2D and color the data by the class in which it belongs.\n",
        "\n",
        "Two references which might help the [sklearn documentation](https://scikit-learn.org/stable/modules/manifold.html) and Jake Vanderplas' book [Python Data Science Handbook](https://jakevdp.github.io/PythonDataScienceHandbook/05.10-manifold-learning.html). \n",
        "\n",
        "Practice creating a well formatted Jupyter notebook. You should have a title, a description of the data set, a description of the algorithms, a description of the results, and a discussion of the results. You should also have a conclusion. Your notebook should not have lots of code cells with no explanation. It should also not have lots of text outputs. You may need that during your development but by the time you submit, please clean it up.\n"
      ]
    },
    {
      "cell_type": "markdown",
      "metadata": {
        "nteract": {
          "transient": {
            "deleting": false
          }
        }
      },
      "source": []
    },
    {
      "cell_type": "code",
      "execution_count": 2,
      "metadata": {
        "vscode": {
          "languageId": "art"
        }
      },
      "outputs": [],
      "source": [
        "%pip install torchvision"
      ]
    },
    {
      "cell_type": "code",
      "execution_count": 3,
      "metadata": {
        "vscode": {
          "languageId": "art"
        }
      },
      "outputs": [],
      "source": [
        "from torchvision.datasets import CIFAR10\n",
        "from torchvision.transforms import ToTensor\n",
        "dataset = CIFAR10(root='data/', download=True, transform= ToTensor())\n",
        "test_dataset = CIFAR10(root='data/', train=False, transform= ToTensor())"
      ]
    },
    {
      "cell_type": "code",
      "execution_count": null,
      "metadata": {
        "vscode": {
          "languageId": "art"
        }
      },
      "outputs": [],
      "source": [
        "from matplotlib import pyplot as plt \n",
        "import pandas as pd \n",
        "import numpy as np  \n",
        "import seaborn as sns\n",
        "from sklearn.decomposition import PCA"
      ]
    },
    {
      "cell_type": "markdown",
      "metadata": {},
      "source": [
        "For an initial Exploratory Data Analysis (EDA) on the CIFAR-10 dataset,I'll start with some basic visualizations and statistics to understand the data. This involves showing a few sample images, checking the balance of classes, and understanding the image format. Here's a basic outline of the steps in code:"
      ]
    },
    {
      "cell_type": "code",
      "execution_count": 6,
      "metadata": {
        "vscode": {
          "languageId": "art"
        }
      },
      "outputs": [],
      "source": [
        "# Sample and visualize some images from each class\n",
        "classes = dataset.classes\n",
        "fig, ax = plt.subplots(2, 5, figsize=(15, 6))\n",
        "for i in range(10):\n",
        "    idx = [j for j, y in enumerate(dataset.targets) if y == i][0]\n",
        "    ax[i//5, i%5].imshow(dataset.data[idx])\n",
        "    ax[i//5, i%5].set_title(classes[i])\n",
        "    ax[i//5, i%5].axis('off')\n",
        "plt.show() \n",
        "\n",
        "# Check the balance of classes\n",
        "class_counts = {class_name:0 for class_name in classes}\n",
        "for _, label in dataset:\n",
        "    class_counts[classes[label]] += 1\n",
        "print(class_counts)"
      ]
    },
    {
      "cell_type": "markdown",
      "metadata": {},
      "source": [
        "FOr PCA first I have to reshape the data since PCA expects 2D arrays as input. CIFAR-10 images are 32x32 pixels with 3 color channels.  I'll reshape them into 3072-dimensional vectors. Then, I can apply PCA to reduce the dimensionality to 2D for visualization."
      ]
    },
    {
      "cell_type": "code",
      "execution_count": null,
      "metadata": {
        "vscode": {
          "languageId": "art"
        }
      },
      "outputs": [],
      "source": [
        "# Preprocess data: Flatten the images and convert to numpy\n",
        "X = np.array([np.array(x).flatten() for x, _ in dataset])\n",
        "\n",
        "# Apply PCA to reduce to 2 dimensions\n",
        "pca = PCA(n_components=2)\n",
        "X_pca = pca.fit_transform(X)"
      ]
    }
  ],
  "metadata": {
    "kernel_info": {
      "name": "python3"
    },
    "kernelspec": {
      "argv": [
        "D:\\Users\\michael\\miniconda3\\envs\\nteract\\python.exe",
        "-m",
        "ipykernel_launcher",
        "-f",
        "{connection_file}"
      ],
      "display_name": "Python 3 (ipykernel)",
      "language": "python",
      "metadata": {
        "debugger": true
      },
      "name": "python3"
    },
    "language_info": {
      "codemirror_mode": {
        "name": "ipython",
        "version": 3
      },
      "file_extension": ".py",
      "mimetype": "text/x-python",
      "name": "python",
      "nbconvert_exporter": "python",
      "pygments_lexer": "ipython3",
      "version": "3.10.0"
    },
    "nteract": {
      "version": "0.28.0"
    }
  },
  "nbformat": 4,
  "nbformat_minor": 0
}
